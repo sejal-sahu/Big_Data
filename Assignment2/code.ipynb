{
 "cells": [
  {
   "cell_type": "code",
   "execution_count": 1,
   "id": "6b70f7ed",
   "metadata": {},
   "outputs": [],
   "source": [
    "# Importing Libraries\n",
    "import numpy as np\n",
    "import plotly.graph_objs as go\n",
    "import plotly.express as px\n",
    "from ipywidgets import interact, widgets, Button, HBox, VBox, Output\n",
    "from IPython.display import display\n",
    "import vtk\n",
    "from vtk.util import numpy_support"
   ]
  },
  {
   "cell_type": "code",
   "execution_count": 2,
   "id": "49ac7696",
   "metadata": {},
   "outputs": [],
   "source": [
    "# Function to load the Dataset\n",
    "def load_vti(filename):\n",
    "    reader = vtk.vtkXMLImageDataReader()\n",
    "    reader.SetFileName(filename)\n",
    "    reader.Update()\n",
    "    data = reader.GetOutput()\n",
    "    dims = data.GetDimensions()\n",
    "    scalar_range = data.GetScalarRange()\n",
    "    array = data.GetPointData().GetScalars()\n",
    "    numpy_array = numpy_support.vtk_to_numpy(array).reshape(dims, order='F')\n",
    "    return numpy_array, scalar_range\n",
    "\n",
    "# Loading the 3D dataset\n",
    "dataset, scalar_range = load_vti(\"mixture.vti\")"
   ]
  },
  {
   "cell_type": "code",
   "execution_count": 3,
   "id": "375bf5a9",
   "metadata": {},
   "outputs": [],
   "source": [
    "# Setting initial values\n",
    "initial_isovalue = 0.0\n",
    "initial_histogram_range = scalar_range"
   ]
  },
  {
   "cell_type": "code",
   "execution_count": 4,
   "id": "818aa1b3",
   "metadata": {},
   "outputs": [],
   "source": [
    "# Updating data based on dataset structure\n",
    "x, y, z = np.meshgrid(np.arange(dataset.shape[0]), np.arange(dataset.shape[1]), np.arange(dataset.shape[2]))"
   ]
  },
  {
   "cell_type": "code",
   "execution_count": 5,
   "id": "871d9ec5",
   "metadata": {},
   "outputs": [],
   "source": [
    "# Defining custom color map\n",
    "fixed_colorscale = [\n",
    "    [0.0, 'purple'],\n",
    "    [0.25, 'indigo'],\n",
    "    [0.5, 'red'],\n",
    "    [0.75, 'orange'],\n",
    "    [1.0, 'yellow']\n",
    "]"
   ]
  },
  {
   "cell_type": "code",
   "execution_count": 6,
   "id": "584d9fca",
   "metadata": {},
   "outputs": [],
   "source": [
    "# Creating Isosurface Plotly figure\n",
    "def create_isosurface(isovalue):\n",
    "        # Creating Isosurface plot\n",
    "        fig_isosurface = go.Figure(data=go.Isosurface(\n",
    "            x=y.flatten(),\n",
    "            y=x.flatten(),\n",
    "            z=z.flatten(),\n",
    "            value=dataset.flatten(),  # Ensure dataset contains scalar values\n",
    "            isomin=isovalue,\n",
    "            isomax=isovalue,\n",
    "            surface_count=1,\n",
    "            cmin = -1.0,\n",
    "            cmax = 0.45,\n",
    "            colorscale=fixed_colorscale,\n",
    "            showscale=False,  # Remove the color map from display\n",
    "            opacity=0.9,\n",
    "            caps=dict(x_show=False, y_show=False, z_show=False)\n",
    "        ))\n",
    "        \n",
    "\n",
    "        # Remove numerical values from axis\n",
    "        fig_isosurface.update_layout(\n",
    "            scene=dict(\n",
    "                xaxis_visible=True,\n",
    "                yaxis_visible=True,\n",
    "                zaxis_visible=True,\n",
    "                xaxis_showticklabels=False,\n",
    "                yaxis_showticklabels=False,\n",
    "                zaxis_showticklabels=False\n",
    "            )\n",
    "        )\n",
    "        \n",
    "        # Setting dimensions of the plot\n",
    "        fig_isosurface.update_layout(width=500, height=500)\n",
    "        \n",
    "        # Showing the figure\n",
    "        with output:\n",
    "            output.clear_output(wait=True) # Clearing previous plot\n",
    "            display(fig_isosurface)\n"
   ]
  },
  {
   "cell_type": "code",
   "execution_count": 7,
   "id": "c01a7456",
   "metadata": {},
   "outputs": [],
   "source": [
    "# Creating initial Histogram Plotly figure\n",
    "def create_initial_histogram(histogram_range):\n",
    "    data = dataset.flatten()\n",
    "    \n",
    "    fig_histogram = px.histogram(x=data, nbins=50, range_x=histogram_range)\n",
    "    \n",
    "    fig_histogram.update_layout(\n",
    "        xaxis_title=\"Vortex scalar values\",\n",
    "        yaxis_title=\"Frequency\"\n",
    "    )\n",
    "    \n",
    "    # Setting dimensions of the plot\n",
    "    fig_histogram.update_layout(width=400, height=450)\n",
    "       \n",
    "    with output_histogram:\n",
    "        output_histogram.clear_output(wait=True) # Clearing previous plot\n",
    "        display(fig_histogram)\n",
    "            \n",
    "            \n",
    "            \n",
    "\n",
    "# Creating Histogram Plotly figure\n",
    "def create_histogram(histogram_range):\n",
    "    data = dataset.flatten()\n",
    "    hist, bins = np.histogram(data, bins=25, range= histogram_range)\n",
    "    max_y = max(hist)\n",
    "    fig_histogram = px.histogram(x=data, nbins=100, range_x=histogram_range, range_y = (0,max_y*1.1))\n",
    "    \n",
    "    # Label axis\n",
    "    fig_histogram.update_layout(\n",
    "        xaxis_title=\"Vortex scalar values\",\n",
    "        yaxis_title=\"Frequency\"\n",
    "    )\n",
    "    \n",
    "    # Setting dimensions of the plot\n",
    "    fig_histogram.update_layout(width=400, height=450)\n",
    "\n",
    "    \n",
    "    with output_histogram:\n",
    "        output_histogram.clear_output(wait=True) # Clearing previous plot\n",
    "        display(fig_histogram)\n"
   ]
  },
  {
   "cell_type": "code",
   "execution_count": 8,
   "id": "8f3010ac",
   "metadata": {},
   "outputs": [],
   "source": [
    "# Slider callback function\n",
    "def update_slider(change):\n",
    "    isovalue = change.new\n",
    "    histogram_range = (isovalue - 0.25, isovalue + 0.25)\n",
    "    create_isosurface(isovalue)\n",
    "    create_histogram(histogram_range)"
   ]
  },
  {
   "cell_type": "code",
   "execution_count": 9,
   "id": "3018c921",
   "metadata": {},
   "outputs": [],
   "source": [
    "# Reset button callback function\n",
    "def reset_plot(button):\n",
    "    slider.value = initial_isovalue\n",
    "    histogram_range = scalar_range\n",
    "    create_isosurface(initial_isovalue)\n",
    "    create_initial_histogram(histogram_range)"
   ]
  },
  {
   "cell_type": "code",
   "execution_count": 10,
   "id": "054b976b",
   "metadata": {},
   "outputs": [],
   "source": [
    "# Creating slider widget\n",
    "slider = widgets.FloatSlider(\n",
    "    value=initial_isovalue,\n",
    "    min=scalar_range[0],\n",
    "    max=scalar_range[1],\n",
    "    step=0.1,\n",
    "    description='Isovalue:',\n",
    "    continuous_update=False\n",
    ")\n",
    "slider.observe(update_slider, names='value')"
   ]
  },
  {
   "cell_type": "code",
   "execution_count": 11,
   "id": "a4ecbdc5",
   "metadata": {},
   "outputs": [],
   "source": [
    "# Creating reset button widget\n",
    "reset_button = Button(description=\"Reset\")\n",
    "reset_button.on_click(reset_plot)\n"
   ]
  },
  {
   "cell_type": "code",
   "execution_count": 12,
   "id": "d75088d5",
   "metadata": {},
   "outputs": [],
   "source": [
    "# Creating output widgets for displaying plots\n",
    "output = Output()\n",
    "output_histogram = Output()"
   ]
  },
  {
   "cell_type": "code",
   "execution_count": 13,
   "id": "b4d2844a",
   "metadata": {
    "scrolled": true
   },
   "outputs": [
    {
     "data": {
      "application/vnd.jupyter.widget-view+json": {
       "model_id": "982099c18b944dee88a28ec6087acc76",
       "version_major": 2,
       "version_minor": 0
      },
      "text/plain": [
       "HBox(children=(FloatSlider(value=0.0, continuous_update=False, description='Isovalue:', max=0.4328016340732574…"
      ]
     },
     "metadata": {},
     "output_type": "display_data"
    },
    {
     "data": {
      "application/vnd.jupyter.widget-view+json": {
       "model_id": "dd8fc0c6a2404bfb84233ba7d4004f61",
       "version_major": 2,
       "version_minor": 0
      },
      "text/plain": [
       "HBox(children=(Output(), Output()))"
      ]
     },
     "metadata": {},
     "output_type": "display_data"
    }
   ],
   "source": [
    "# Displaying the plots\n",
    "display(HBox([slider, reset_button]))\n",
    "display(HBox([output, output_histogram]))\n",
    "reset_plot(True)"
   ]
  },
  {
   "cell_type": "code",
   "execution_count": null,
   "id": "62becbe2",
   "metadata": {},
   "outputs": [],
   "source": []
  },
  {
   "cell_type": "code",
   "execution_count": null,
   "id": "c66afd08",
   "metadata": {},
   "outputs": [],
   "source": []
  }
 ],
 "metadata": {
  "kernelspec": {
   "display_name": "Python 3 (ipykernel)",
   "language": "python",
   "name": "python3"
  },
  "language_info": {
   "codemirror_mode": {
    "name": "ipython",
    "version": 3
   },
   "file_extension": ".py",
   "mimetype": "text/x-python",
   "name": "python",
   "nbconvert_exporter": "python",
   "pygments_lexer": "ipython3",
   "version": "3.9.7"
  }
 },
 "nbformat": 4,
 "nbformat_minor": 5
}
